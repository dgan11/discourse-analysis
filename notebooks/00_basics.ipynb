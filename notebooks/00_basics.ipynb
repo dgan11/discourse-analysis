{
 "cells": [
  {
   "cell_type": "markdown",
   "metadata": {},
   "source": [
    "# Basics\n"
   ]
  },
  {
   "cell_type": "code",
   "execution_count": 1,
   "metadata": {
    "execution": {
     "iopub.execute_input": "2025-02-20T02:05:25.635889Z",
     "iopub.status.busy": "2025-02-20T02:05:25.635495Z",
     "iopub.status.idle": "2025-02-20T02:05:25.648136Z",
     "shell.execute_reply": "2025-02-20T02:05:25.647312Z"
    }
   },
   "outputs": [
    {
     "name": "stdout",
     "output_type": "stream",
     "text": [
      "22\n",
      "Hello, Jupyter!\n"
     ]
    }
   ],
   "source": [
    "x = 12 + 10\n",
    "print(x)\n",
    "print(\"Hello, Jupyter!\")"
   ]
  }
 ],
 "metadata": {
  "kernelspec": {
   "display_name": "cursor-analysis",
   "language": "python",
   "name": "python3"
  },
  "language_info": {
   "codemirror_mode": {
    "name": "ipython",
    "version": 3
   },
   "file_extension": ".py",
   "mimetype": "text/x-python",
   "name": "python",
   "nbconvert_exporter": "python",
   "pygments_lexer": "ipython3",
   "version": "3.9.12"
  }
 },
 "nbformat": 4,
 "nbformat_minor": 2
}
