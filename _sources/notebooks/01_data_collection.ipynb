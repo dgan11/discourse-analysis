{
 "cells": [
  {
   "cell_type": "markdown",
   "metadata": {},
   "source": [
    "# Data Collection"
   ]
  },
  {
   "cell_type": "markdown",
   "metadata": {},
   "source": [
    "- see `scripts` folder\n",
    "\n",
    "### Idea\n",
    "- scrape all discourse discussions by category\n",
    "- combine them into a single json file\n",
    "\n",
    "### Rough Numbers\n",
    "- Total posts: 37,194\n",
    "- Total discussions: 9,401\n",
    "- Total users: 9885\n",
    "- Date range: 2023-08-21 to 2025-02-23\n",
    "\n",
    "\n",
    "### Up Next\n",
    "- analyze the data"
   ]
  },
  {
   "cell_type": "markdown",
   "metadata": {},
   "source": []
  },
  {
   "cell_type": "markdown",
   "metadata": {},
   "source": []
  }
 ],
 "metadata": {
  "language_info": {
   "codemirror_mode": {
    "name": "ipython",
    "version": 3
   },
   "file_extension": ".py",
   "mimetype": "text/x-python",
   "name": "python",
   "nbconvert_exporter": "python",
   "pygments_lexer": "ipython3",
   "version": "3.9.12"
  }
 },
 "nbformat": 4,
 "nbformat_minor": 2
}
